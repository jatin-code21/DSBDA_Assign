{
 "cells": [
  {
   "cell_type": "code",
   "execution_count": null,
   "id": "122ae961",
   "metadata": {},
   "outputs": [],
   "source": [
    "import pandas as pd\n",
    "\n",
    "# Load the dataset\n",
    "df = pd.read_csv('covid_vaccine_statewise.csv')\n",
    "\n",
    "# a. Describe the dataset\n",
    "dataset_description = df.describe()\n",
    "print(\"Dataset Description:\")\n",
    "print(dataset_description)\n",
    "\n",
    "# b. Number of persons state-wise vaccinated for the first dose in India\n",
    "first_dose_statewise = df.groupby('State')['First Dose Administered'].sum()\n",
    "print(\"\\nNumber of persons state-wise vaccinated for the first dose in India:\")\n",
    "print(first_dose_statewise)\n",
    "\n",
    "# c. Number of persons state-wise vaccinated for the second dose in India\n",
    "second_dose_statewise = df.groupby('State')['Second Dose Administered'].sum()\n",
    "print(\"\\nNumber of persons state-wise vaccinated for the second dose in India:\")\n",
    "print(second_dose_statewise)\n",
    "\n",
    "# d. Number of Males vaccinated\n",
    "males_vaccinated = df['Male (Individuals Vaccinated)'].sum()\n",
    "print(\"\\nNumber of Males vaccinated:\", males_vaccinated)\n",
    "\n",
    "# e. Number of Females vaccinated\n",
    "females_vaccinated = df['Female (Individuals Vaccinated)'].sum()\n",
    "print(\"\\nNumber of Females vaccinated:\", females_vaccinated)"
   ]
  }
 ],
 "metadata": {
  "kernelspec": {
   "display_name": "Python 3 (ipykernel)",
   "language": "python",
   "name": "python3"
  },
  "language_info": {
   "codemirror_mode": {
    "name": "ipython",
    "version": 3
   },
   "file_extension": ".py",
   "mimetype": "text/x-python",
   "name": "python",
   "nbconvert_exporter": "python",
   "pygments_lexer": "ipython3",
   "version": "3.11.3"
  }
 },
 "nbformat": 4,
 "nbformat_minor": 5
}
